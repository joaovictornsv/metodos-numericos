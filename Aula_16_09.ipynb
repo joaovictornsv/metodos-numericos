{
 "cells": [
  {
   "cell_type": "markdown",
   "id": "21abb692",
   "metadata": {},
   "source": [
    "## Métodos númericos - 16/09\n",
    "### João Victor Negreiros da Silva"
   ]
  },
  {
   "cell_type": "markdown",
   "id": "d1ed4386",
   "metadata": {},
   "source": [
    "## Ecossitema de computação científica\n",
    "\n",
    "- scipy\n",
    "    - stats\n",
    "    - scikit learn\n",
    "    \n",
    "\n",
    "- numpy\n",
    "    - matplotlib\n",
    "    - pandas\n",
    "    - pytorch\n",
    "    - keras\n",
    "    - plotty\n",
    "    - seaborn\n",
    "\n",
    "\n",
    "## Tipo básico - Array (ndarray)\n",
    "\n",
    "- heterogeneidade de dados\n",
    "- mutável\n",
    "- \"operável\"\n",
    "- indexado por posição\n",
    "- operações vetorizadas"
   ]
  },
  {
   "cell_type": "markdown",
   "id": "1b9e9a3c",
   "metadata": {},
   "source": [
    "### Operações com array"
   ]
  },
  {
   "cell_type": "code",
   "execution_count": 6,
   "id": "fd5547b2",
   "metadata": {},
   "outputs": [],
   "source": [
    "a = [1, 2, 3, 4]\n",
    "b = [5, 6, 7, 8]"
   ]
  },
  {
   "cell_type": "code",
   "execution_count": 3,
   "id": "b6c53673",
   "metadata": {},
   "outputs": [
    {
     "data": {
      "text/plain": [
       "[1, 2, 3, 4, 5, 6, 7, 8]"
      ]
     },
     "execution_count": 3,
     "metadata": {},
     "output_type": "execute_result"
    }
   ],
   "source": [
    "a+b"
   ]
  },
  {
   "cell_type": "code",
   "execution_count": 4,
   "id": "949afcac",
   "metadata": {},
   "outputs": [
    {
     "ename": "TypeError",
     "evalue": "can't multiply sequence by non-int of type 'list'",
     "output_type": "error",
     "traceback": [
      "\u001b[1;31m---------------------------------------------------------------------------\u001b[0m",
      "\u001b[1;31mTypeError\u001b[0m                                 Traceback (most recent call last)",
      "\u001b[1;32mD:\\Users\\202011~1\\AppData\\Local\\Temp/ipykernel_3844/786576050.py\u001b[0m in \u001b[0;36m<module>\u001b[1;34m\u001b[0m\n\u001b[1;32m----> 1\u001b[1;33m \u001b[0mA\u001b[0m\u001b[1;33m*\u001b[0m\u001b[0mB\u001b[0m\u001b[1;33m\u001b[0m\u001b[1;33m\u001b[0m\u001b[0m\n\u001b[0m",
      "\u001b[1;31mTypeError\u001b[0m: can't multiply sequence by non-int of type 'list'"
     ]
    }
   ],
   "source": [
    "a*b"
   ]
  },
  {
   "cell_type": "code",
   "execution_count": 7,
   "id": "4b1ddbe4",
   "metadata": {
    "scrolled": true
   },
   "outputs": [
    {
     "ename": "TypeError",
     "evalue": "unsupported operand type(s) for /: 'list' and 'list'",
     "output_type": "error",
     "traceback": [
      "\u001b[1;31m---------------------------------------------------------------------------\u001b[0m",
      "\u001b[1;31mTypeError\u001b[0m                                 Traceback (most recent call last)",
      "\u001b[1;32mD:\\Users\\202011~1\\AppData\\Local\\Temp/ipykernel_3844/1348051284.py\u001b[0m in \u001b[0;36m<module>\u001b[1;34m\u001b[0m\n\u001b[1;32m----> 1\u001b[1;33m \u001b[0ma\u001b[0m\u001b[1;33m/\u001b[0m\u001b[0mb\u001b[0m\u001b[1;33m\u001b[0m\u001b[1;33m\u001b[0m\u001b[0m\n\u001b[0m",
      "\u001b[1;31mTypeError\u001b[0m: unsupported operand type(s) for /: 'list' and 'list'"
     ]
    }
   ],
   "source": [
    "a/b"
   ]
  },
  {
   "cell_type": "markdown",
   "id": "d3cbf18a",
   "metadata": {},
   "source": [
    "### Operações com array + numpy"
   ]
  },
  {
   "cell_type": "code",
   "execution_count": 2,
   "id": "3df6578f",
   "metadata": {},
   "outputs": [
    {
     "ename": "NameError",
     "evalue": "name 'a' is not defined",
     "output_type": "error",
     "traceback": [
      "\u001b[1;31m---------------------------------------------------------------------------\u001b[0m",
      "\u001b[1;31mNameError\u001b[0m                                 Traceback (most recent call last)",
      "\u001b[1;32mD:\\Users\\202011~1\\AppData\\Local\\Temp/ipykernel_9072/1530307211.py\u001b[0m in \u001b[0;36m<module>\u001b[1;34m\u001b[0m\n\u001b[0;32m      1\u001b[0m \u001b[1;32mimport\u001b[0m \u001b[0mnumpy\u001b[0m \u001b[1;32mas\u001b[0m \u001b[0mnp\u001b[0m\u001b[1;33m\u001b[0m\u001b[1;33m\u001b[0m\u001b[0m\n\u001b[1;32m----> 2\u001b[1;33m \u001b[0ma_np\u001b[0m \u001b[1;33m=\u001b[0m \u001b[0mnp\u001b[0m\u001b[1;33m.\u001b[0m\u001b[0marray\u001b[0m\u001b[1;33m(\u001b[0m\u001b[0ma\u001b[0m\u001b[1;33m)\u001b[0m\u001b[1;33m\u001b[0m\u001b[1;33m\u001b[0m\u001b[0m\n\u001b[0m\u001b[0;32m      3\u001b[0m \u001b[0mb_np\u001b[0m \u001b[1;33m=\u001b[0m \u001b[0mnp\u001b[0m\u001b[1;33m.\u001b[0m\u001b[0marray\u001b[0m\u001b[1;33m(\u001b[0m\u001b[0mb\u001b[0m\u001b[1;33m)\u001b[0m\u001b[1;33m\u001b[0m\u001b[1;33m\u001b[0m\u001b[0m\n",
      "\u001b[1;31mNameError\u001b[0m: name 'a' is not defined"
     ]
    }
   ],
   "source": [
    "import numpy as np\n",
    "a_np = np.array(a)\n",
    "b_np = np.array(b)"
   ]
  },
  {
   "cell_type": "code",
   "execution_count": 18,
   "id": "b3486a56",
   "metadata": {
    "scrolled": true
   },
   "outputs": [
    {
     "data": {
      "text/plain": [
       "array([ 6,  8, 10, 12])"
      ]
     },
     "execution_count": 18,
     "metadata": {},
     "output_type": "execute_result"
    }
   ],
   "source": [
    "a_np+b_np"
   ]
  },
  {
   "cell_type": "code",
   "execution_count": 19,
   "id": "4f30e7cf",
   "metadata": {},
   "outputs": [
    {
     "data": {
      "text/plain": [
       "array([ 5, 12, 21, 32])"
      ]
     },
     "execution_count": 19,
     "metadata": {},
     "output_type": "execute_result"
    }
   ],
   "source": [
    "a_np*b_np"
   ]
  },
  {
   "cell_type": "code",
   "execution_count": 20,
   "id": "54f88136",
   "metadata": {},
   "outputs": [
    {
     "data": {
      "text/plain": [
       "array([0.2       , 0.33333333, 0.42857143, 0.5       ])"
      ]
     },
     "execution_count": 20,
     "metadata": {},
     "output_type": "execute_result"
    }
   ],
   "source": [
    "a_np/b_np"
   ]
  },
  {
   "cell_type": "markdown",
   "id": "64247135",
   "metadata": {},
   "source": [
    "### Biblioteca `timeit`"
   ]
  },
  {
   "cell_type": "code",
   "execution_count": 3,
   "id": "9b869257",
   "metadata": {},
   "outputs": [],
   "source": [
    "from timeit import default_timer as tmr\n",
    "\n",
    "l = list(range(1000000))\n",
    "v = np.array(l)"
   ]
  },
  {
   "cell_type": "code",
   "execution_count": 4,
   "id": "2e50e545",
   "metadata": {},
   "outputs": [
    {
     "name": "stdout",
     "output_type": "stream",
     "text": [
      "24.9 ms ± 521 µs per loop (mean ± std. dev. of 7 runs, 10 loops each)\n"
     ]
    }
   ],
   "source": [
    "%timeit sum(l)"
   ]
  },
  {
   "cell_type": "code",
   "execution_count": 5,
   "id": "bc0d8903",
   "metadata": {},
   "outputs": [
    {
     "name": "stdout",
     "output_type": "stream",
     "text": [
      "355 µs ± 22.1 µs per loop (mean ± std. dev. of 7 runs, 1000 loops each)\n"
     ]
    }
   ],
   "source": [
    "%timeit v.sum()"
   ]
  },
  {
   "cell_type": "markdown",
   "id": "0996b847",
   "metadata": {},
   "source": [
    "### Array a partir de listas"
   ]
  },
  {
   "cell_type": "code",
   "execution_count": 8,
   "id": "250fc40a",
   "metadata": {},
   "outputs": [
    {
     "data": {
      "text/plain": [
       "(8,)"
      ]
     },
     "execution_count": 8,
     "metadata": {},
     "output_type": "execute_result"
    }
   ],
   "source": [
    "# Array unidimensional\n",
    "A = np.array([4, 7, 5, 1, 9, 7, 4, 0]);\n",
    "A.shape"
   ]
  },
  {
   "cell_type": "code",
   "execution_count": 15,
   "id": "1537a28d",
   "metadata": {},
   "outputs": [
    {
     "data": {
      "text/plain": [
       "array([[4, 7, 5, 1],\n",
       "       [9, 7, 4, 0]])"
      ]
     },
     "execution_count": 15,
     "metadata": {},
     "output_type": "execute_result"
    }
   ],
   "source": [
    "# Array bidimensional\n",
    "# Modifica as dimensões para redispor o conteúdo\n",
    "A.shape = (2, 4); A"
   ]
  },
  {
   "cell_type": "code",
   "execution_count": 16,
   "id": "81e5c28b",
   "metadata": {},
   "outputs": [
    {
     "data": {
      "text/plain": [
       "array([[[4, 7],\n",
       "        [5, 1]],\n",
       "\n",
       "       [[9, 7],\n",
       "        [4, 0]]])"
      ]
     },
     "execution_count": 16,
     "metadata": {},
     "output_type": "execute_result"
    }
   ],
   "source": [
    "# Array tridimensional\n",
    "A.shape = (2, 2, 2); A"
   ]
  },
  {
   "cell_type": "markdown",
   "id": "e9cf24aa",
   "metadata": {},
   "source": [
    "## Sequências regulares"
   ]
  },
  {
   "cell_type": "code",
   "execution_count": 54,
   "id": "f0f309ec",
   "metadata": {},
   "outputs": [],
   "source": [
    "import matplotlib.pyplot as plt"
   ]
  },
  {
   "cell_type": "markdown",
   "id": "e833677e",
   "metadata": {},
   "source": [
    "### Arange: vetor com passo especificado\n",
    "\n",
    "```\n",
    "[a, b, c, d, ...]\n",
    "b-a -> passo\n",
    "c-b -> passo\n",
    "...\n",
    "```"
   ]
  },
  {
   "cell_type": "code",
   "execution_count": 28,
   "id": "7cefe37b",
   "metadata": {},
   "outputs": [],
   "source": [
    "arange = np.arange(start=0, stop=12, step=2)\n",
    "#start = valor inicial\n",
    "#stop = valor final (não é incluído)\n",
    "#step = passo"
   ]
  },
  {
   "cell_type": "code",
   "execution_count": 57,
   "id": "aa2aef7f",
   "metadata": {},
   "outputs": [
    {
     "data": {
      "text/plain": [
       "[<matplotlib.lines.Line2D at 0x278efb2fcd0>]"
      ]
     },
     "execution_count": 57,
     "metadata": {},
     "output_type": "execute_result"
    },
    {
     "data": {
      "image/png": "[encoded data removed]",
      "text/plain": [
       "<Figure size 432x288 with 1 Axes>"
      ]
     },
     "metadata": {
      "needs_background": "light"
     },
     "output_type": "display_data"
    }
   ],
   "source": [
    "plt.plot(arange, 'bo-')"
   ]
  },
  {
   "cell_type": "markdown",
   "id": "03830d97",
   "metadata": {},
   "source": [
    "### Linspace: vetor com nº de elementos controlado"
   ]
  },
  {
   "cell_type": "code",
   "execution_count": 30,
   "id": "46b3bde6",
   "metadata": {},
   "outputs": [],
   "source": [
    "linspace = np.linspace(start=0, stop=12, num=7)\n",
    "#start = valor inicial\n",
    "#stop = valor final (é incluído)\n",
    "#num = número de elementos"
   ]
  },
  {
   "cell_type": "code",
   "execution_count": 42,
   "id": "d02d3b13",
   "metadata": {},
   "outputs": [
    {
     "data": {
      "text/plain": [
       "[<matplotlib.lines.Line2D at 0x278ef78af10>]"
      ]
     },
     "execution_count": 42,
     "metadata": {},
     "output_type": "execute_result"
    },
    {
     "data": {
      "image/png": "[encoded data removed]",
      "text/plain": [
       "<Figure size 432x288 with 1 Axes>"
      ]
     },
     "metadata": {
      "needs_background": "light"
     },
     "output_type": "display_data"
    }
   ],
   "source": [
    "plt.plot(linspace, 'bo-')"
   ]
  },
  {
   "cell_type": "markdown",
   "id": "da4c2da0",
   "metadata": {},
   "source": [
    "### Logspace"
   ]
  },
  {
   "cell_type": "code",
   "execution_count": 50,
   "id": "d77ae6f5",
   "metadata": {},
   "outputs": [],
   "source": [
    "logspace = np.logspace(start=-3, stop=3, num=7, base=2)"
   ]
  },
  {
   "cell_type": "code",
   "execution_count": 51,
   "id": "36f6ba7b",
   "metadata": {},
   "outputs": [
    {
     "data": {
      "text/plain": [
       "[<matplotlib.lines.Line2D at 0x278ef98ffa0>]"
      ]
     },
     "execution_count": 51,
     "metadata": {},
     "output_type": "execute_result"
    },
    {
     "data": {
      "image/png": "[encoded data removed]",
      "text/plain": [
       "<Figure size 432x288 with 1 Axes>"
      ]
     },
     "metadata": {
      "needs_background": "light"
     },
     "output_type": "display_data"
    }
   ],
   "source": [
    "plt.plot(logspace, 'bo-')"
   ]
  },
  {
   "cell_type": "markdown",
   "id": "d5b1677f",
   "metadata": {},
   "source": [
    "### Geomspace"
   ]
  },
  {
   "cell_type": "code",
   "execution_count": 47,
   "id": "25148db7",
   "metadata": {},
   "outputs": [],
   "source": [
    "geomspace = np.geomspace(start=2**(-3), stop=2**3, num=7)"
   ]
  },
  {
   "cell_type": "code",
   "execution_count": 48,
   "id": "d2a5af65",
   "metadata": {},
   "outputs": [
    {
     "data": {
      "text/plain": [
       "[<matplotlib.lines.Line2D at 0x278ef929250>]"
      ]
     },
     "execution_count": 48,
     "metadata": {},
     "output_type": "execute_result"
    },
    {
     "data": {
      "image/png": "[encoded data removed]",
      "text/plain": [
       "<Figure size 432x288 with 1 Axes>"
      ]
     },
     "metadata": {
      "needs_background": "light"
     },
     "output_type": "display_data"
    }
   ],
   "source": [
    "plt.plot(geomspace, 'bo-')"
   ]
  },
  {
   "cell_type": "markdown",
   "id": "6e8a0dd9",
   "metadata": {},
   "source": [
    "### Fatiamentos"
   ]
  },
  {
   "cell_type": "markdown",
   "id": "f46c9d88",
   "metadata": {},
   "source": [
    "#### Arrays"
   ]
  },
  {
   "cell_type": "code",
   "execution_count": 58,
   "id": "90bc7416",
   "metadata": {},
   "outputs": [
    {
     "data": {
      "text/plain": [
       "array([100., 101., 102., 103., 104., 105., 106., 107., 108., 109., 110.])"
      ]
     },
     "execution_count": 58,
     "metadata": {},
     "output_type": "execute_result"
    }
   ],
   "source": [
    "A = np.linspace(start=100, stop=110, num=11)\n",
    "A"
   ]
  },
  {
   "cell_type": "code",
   "execution_count": 75,
   "id": "79e816b7",
   "metadata": {},
   "outputs": [
    {
     "name": "stdout",
     "output_type": "stream",
     "text": [
      "[100. 101.]\n",
      "[100. 101.]\n",
      "[102. 103. 104. 105. 106. 107. 108. 109. 110.]\n",
      "[109. 110.]\n",
      "[100. 102. 104. 106. 108. 110.]\n"
     ]
    }
   ],
   "source": [
    "# Fatiamentos\n",
    "print(A[0:2]) # Do 0 até 1 inclusive\n",
    "print(A[:2])  # Idem\n",
    "print(A[2:])  # Do 2 até o final\n",
    "print(A[-2:]) # Do 2 de trás para frente até o final\n",
    "print(A[::2]) # Do começo ao final com passo 2"
   ]
  },
  {
   "cell_type": "code",
   "execution_count": 67,
   "id": "cb5d957e",
   "metadata": {},
   "outputs": [
    {
     "data": {
      "text/plain": [
       "array([101., 105., 109.])"
      ]
     },
     "execution_count": 67,
     "metadata": {},
     "output_type": "execute_result"
    }
   ],
   "source": [
    "# Conjuntos\n",
    "A[[1, 5, 9]]"
   ]
  },
  {
   "cell_type": "markdown",
   "id": "72f4e4bf",
   "metadata": {},
   "source": [
    "#### Matriz"
   ]
  },
  {
   "cell_type": "code",
   "execution_count": 64,
   "id": "184ab37e",
   "metadata": {},
   "outputs": [
    {
     "data": {
      "text/plain": [
       "array([[0.58618294, 0.52422032, 0.05177664, 0.83831792],\n",
       "       [0.18659814, 0.35444565, 0.18351066, 0.98494533],\n",
       "       [0.23046139, 0.29935847, 0.88539715, 0.20871774]])"
      ]
     },
     "execution_count": 64,
     "metadata": {},
     "output_type": "execute_result"
    }
   ],
   "source": [
    "M = np.random.rand(3, 4)\n",
    "M"
   ]
  },
  {
   "cell_type": "code",
   "execution_count": 74,
   "id": "98bc3bab",
   "metadata": {},
   "outputs": [
    {
     "name": "stdout",
     "output_type": "stream",
     "text": [
      "[0.58618294 0.52422032 0.05177664 0.83831792]\n",
      "\n",
      "[[0.58618294 0.52422032 0.05177664 0.83831792]\n",
      " [0.18659814 0.35444565 0.18351066 0.98494533]]\n",
      "\n",
      "[[0.58618294 0.52422032 0.05177664]\n",
      " [0.18659814 0.35444565 0.18351066]\n",
      " [0.23046139 0.29935847 0.88539715]]\n",
      "\n",
      "[[0.58618294 0.52422032 0.05177664]\n",
      " [0.18659814 0.35444565 0.18351066]]\n"
     ]
    }
   ],
   "source": [
    "print(M[0, :])      # Linha 0 e todas as colunas\n",
    "print()\n",
    "print(M[0:2, :])    # Linha 0 e 1 e todas as colunas\n",
    "print()\n",
    "print(M[:, 0:3])    # Todas as linhas e coluans até 2\n",
    "print()\n",
    "print(M[0:2, 0:3])  # Junção das anteriores"
   ]
  }
 ],
 "metadata": {
  "kernelspec": {
   "display_name": "Python 3 (ipykernel)",
   "language": "python",
   "name": "python3"
  },
  "language_info": {
   "codemirror_mode": {
    "name": "ipython",
    "version": 3
   },
   "file_extension": ".py",
   "mimetype": "text/x-python",
   "name": "python",
   "nbconvert_exporter": "python",
   "pygments_lexer": "ipython3",
   "version": "3.9.7"
  }
 },
 "nbformat": 4,
 "nbformat_minor": 5
}
