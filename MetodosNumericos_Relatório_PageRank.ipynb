{
  "cells": [
    {
      "cell_type": "markdown",
      "metadata": {
        "id": "wZliytJfvMse"
      },
      "source": [
        "# <center>__MÉTODOS NUMÉRICOS__</center>\n",
        "## <center>__PROJETO DA UNIDADE 2 - PageRank com Autodecomposições__</center>\n",
        "\n",
        "#### <center>__DUPLA: JOÃO VICTOR NEGREIROS DA SILVA e LUCAS BIVAR FONSÊCA TAVARES__</center>"
      ]
    },
    {
      "cell_type": "markdown",
      "metadata": {
        "id": "kk_ZZIsdvMsp"
      },
      "source": [
        "<div class=\"alert alert-block alert-info\">\n",
        "1. INTRODUÇÃO\n",
        "</div>"
      ]
    },
    {
      "cell_type": "markdown",
      "metadata": {
        "id": "5G5lt8bSvMsq"
      },
      "source": [
        "O PageRank é um algoritmo desenvolvido em 1998 por Sergey Brin e Larry Page (por isso o nome \"Page\" Rank) enquanto cursavam a Universidade de Stanford. Esse algoritmo foi o primeiro utilizado pela ferramenta de busca da Google para classificação de páginas, e permaneceu assim por longos anos. Apesar de hoje a empresa também utilizar outros algoritmos como esse, o PageRank ainda é o mais conhecido. De forma resumida, esse algoritmo atua como uma ferramenta que ajuda a avaliar a importância de um site em relação a outros.\n",
        "\n",
        "<img src=\"https://upload.wikimedia.org/wikipedia/commons/thumb/6/69/PageRank-hi-res.png/300px-PageRank-hi-res.png\" />\n",
        "\n",
        "Para construir uma métrica de PageRank, primeiros temos que visualizar as páginas da internet em um formato de rede (ou grafo), onde cada nó representa uma página e cada ligação (ou aresta) corresponde uma citação de uma página para outra. O algoritmo então atribui um valor para cada nó com base nas ligações que ela recebe e de quem recebe. Dessa forma, quanto mais citações uma página recebe, maior seu valor na métrica do PageRank, e caso essas citações venham de páginas de valor alto, sua métrica tende a crescer mais ainda.\n",
        "\n",
        "<img src=\"https://upload.wikimedia.org/wikipedia/commons/thumb/f/fb/PageRanks-Example.svg/400px-PageRanks-Example.svg.png\" />"
      ]
    },
    {
      "cell_type": "markdown",
      "metadata": {
        "id": "nWDY0SPxvMsq"
      },
      "source": [
        "<div class=\"alert alert-block alert-info\">\n",
        "2. DESCRIÇÃO DO PROBLEMA\n",
        "</div>"
      ]
    },
    {
      "cell_type": "markdown",
      "metadata": {
        "id": "WsEiBzMKvMsr"
      },
      "source": [
        "Neste notebook, o problema apresentado é a classificação (ou rankeameto) de páginas da Wikipédia, de forma que possamos identificar de forma rápida quais as mais relevantes. Para isso será utilzado o algoritmo \"PageRank\" (utilizado pela Google) aliado a outros métodos (que serão discutidos na seção posterior) que identificam a \"importância\" da página a partir de suas ligações com outras páginas."
      ]
    },
    {
      "cell_type": "markdown",
      "metadata": {
        "id": "S7-IkXW0vMsr"
      },
      "source": [
        "<div class=\"alert alert-block alert-info\">\n",
        "3. MÉTODOS APLICADOS À SOLUÇÃO\n",
        "</div>"
      ]
    },
    {
      "cell_type": "markdown",
      "metadata": {
        "id": "TKUE3lmqvMsr"
      },
      "source": [
        "Para solucionar o problema, iremos utilizar alguns métodos de decomposição com matrizes.\n",
        "\n",
        "### Decomposição de valores singulares (SVD)\n",
        "\n",
        "Maneira de fatoração de uma matriz real ou complexa na seguinte forma:\n",
        "\n",
        "$M = U \\Sigma V^*$\n",
        "\n",
        "Onde:\n",
        "- $U$ = Matriz unitária $m ₓ m$\n",
        "- $\\Sigma$ = Matriz retangular diagonal m×n com números reais não-negativos na diagonal\n",
        "- $V^*$ = Conjugada transposta de V\n",
        "\n",
        "### Decomposição de Eigen\n",
        "Para entender esse método, é importante apresentar os conceitos de autovetores e autovalores.\n",
        "\n",
        "Dada uma matriz quadrada $A$ de ordem $n ₓ n$, dizemos que um número real $\\lambda $ é um **autovalor** de $A$ quando existe um vetor não nulo $\\overrightarrow{v}$ tal que:\n",
        "\n",
        "$A\\overrightarrow{v} = \\lambda\\overrightarrow{v}$\n",
        "\n",
        "Neste caso, $\\overrightarrow{v}$ é um dito um **autovetor** de $A$ associado a $\\lambda$.\n",
        "\n",
        "A decomposição de Eigen fatora uma matriz representando-a em termos de seus autovalores e autovetores:\n",
        "\n",
        "$A = Q \\Lambda Q^{-1}$\n",
        "\n",
        "Onde:\n",
        "- $A$ = matriz quadrada $n ₓ n$\n",
        "- $Q$ = matriz quadrada $n ₓ n$ onde a n-ésima coluna corresponde ao n-ésimo autovetor de A.\n",
        "- $\\Lambda$ = matriz diagonal onde os elementos da diagonal correspondem aos autovalores, $\\Lambda_{ii} = \\lambda_{i}$\n",
        "\n",
        "### Power Method (Método das Potências)\n",
        "O método das potências é um algoritmo para calcular autovalores. Dada uma matriz A, o algoritmo produzirá um autovalor ($\\lambda$) e um autovetor ($\\overrightarrow{v}$), tal que:\n",
        "\n",
        "$A\\overrightarrow{v} = \\lambda\\overrightarrow{v}$\n",
        "\n",
        "Também é conhecido como iteração de Von Mises"
      ]
    },
    {
      "cell_type": "markdown",
      "metadata": {
        "id": "hdJwTuAqvMsr"
      },
      "source": [
        "<div class=\"alert alert-block alert-info\">\n",
        "4. IMPLEMENTAÇÃO\n",
        "</div>"
      ]
    },
    {
      "cell_type": "markdown",
      "source": [
        "Para a implementação dos métodos necessários, será utilizado algumas libs auxiliares para lidar com debug, manipulação de arquivos e requisições http:\n",
        "- os\n",
        "- pickle\n",
        "- tqdm\n",
        "- bz2\n",
        "- urllib\n",
        "\n",
        "\\\n",
        "Além dessas também será utilizada bibliotecas bem conhecidas de manipulação de grandes quantidades de dados:\n",
        "- numpy\n",
        "- scipy\n",
        "\n",
        "\\\n",
        "O conjunto de dados utilizado serão os arquivos de redirect e links do DBpedia apenas do idioma Inglês (en). No entanto foi adicionado um limite de 1.000.000 nas iterações na base de dados, para não prolongar o tempo de execução das funções."
      ],
      "metadata": {
        "id": "denvLsbxmlde"
      }
    },
    {
      "cell_type": "markdown",
      "source": [
        "## Imports necessários"
      ],
      "metadata": {
        "id": "Pk_1MU3dCJHq"
      }
    },
    {
      "cell_type": "code",
      "source": [
        "import os\n",
        "import pickle\n",
        "import numpy as np\n",
        "import tqdm.notebook as tqdm\n",
        "from bz2 import BZ2File\n",
        "from scipy import sparse\n",
        "from urllib.request import urlopen"
      ],
      "metadata": {
        "id": "duRjCjZQ8dx_"
      },
      "execution_count": null,
      "outputs": []
    },
    {
      "cell_type": "markdown",
      "source": [
        "## Constantes úteis"
      ],
      "metadata": {
        "id": "qblKSL3NFL60"
      }
    },
    {
      "cell_type": "code",
      "source": [
        "# Dataset com links da Wikipedia\n",
        "URL_BASE = 'http://downloads.dbpedia.org/3.8/en/'\n",
        "\n",
        "# Dados de URLS que redirecionam para outras URLS\n",
        "REDIRECTS_FILENAME = 'redirects_en.nt.bz2'\n",
        "\n",
        "# Paginas que possuem links para outras paginas\n",
        "PAGE_LINKS_FILENAME = 'page_links_en.nt.bz2'\n",
        "\n",
        "\n",
        "filenames = [REDIRECTS_FILENAME, PAGE_LINKS_FILENAME]"
      ],
      "metadata": {
        "id": "iy5e4WxeFK9P"
      },
      "execution_count": null,
      "outputs": []
    },
    {
      "cell_type": "markdown",
      "source": [
        "## Baixando os dados"
      ],
      "metadata": {
        "id": "XgbV41UmFf0j"
      }
    },
    {
      "cell_type": "code",
      "source": [
        "for filename in filenames:\n",
        "    if not os.path.exists(filename):\n",
        "        print(\"Downloading '%s', please wait...\" % filename)\n",
        "        open(filename, 'wb').write(urlopen(URL_BASE+filename).read())"
      ],
      "metadata": {
        "id": "g3f1yc7n8iVL",
        "colab": {
          "base_uri": "https://localhost:8080/"
        },
        "outputId": "7cb8f65f-7372-4aea-ae2a-d0afe9644cfa"
      },
      "execution_count": null,
      "outputs": [
        {
          "output_type": "stream",
          "name": "stdout",
          "text": [
            "Downloading 'redirects_en.nt.bz2', please wait...\n",
            "Downloading 'page_links_en.nt.bz2', please wait...\n"
          ]
        }
      ]
    },
    {
      "cell_type": "code",
      "source": [
        "DBPEDIA_RESOURCE_PREFIX_LEN = len(\"http://dbpedia.org/resource/\")\n",
        "SLICE = slice(DBPEDIA_RESOURCE_PREFIX_LEN + 1, -1)\n",
        "\n",
        "# Removendo primeira e ultima linha por motivos de limpeza de dados\n",
        "def get_lines(filename): return (line.split() for line in BZ2File(filename))"
      ],
      "metadata": {
        "id": "YHqIDdxZ9DAP"
      },
      "execution_count": null,
      "outputs": []
    },
    {
      "cell_type": "markdown",
      "source": [
        "## Criando dicionário\n",
        "Essa estrutura vai guardar as informações dos redirecionamentos da origem para o destino final"
      ],
      "metadata": {
        "id": "VutZo84AGhv7"
      }
    },
    {
      "cell_type": "code",
      "source": [
        "def get_redirect(targ, redirects):\n",
        "    seen = set()\n",
        "    while True:\n",
        "        transitive_targ = targ\n",
        "        targ = redirects.get(targ)\n",
        "        if targ is None or targ in seen: break\n",
        "        seen.add(targ)\n",
        "    return transitive_targ\n",
        "\n",
        "\n",
        "def get_redirects(redirects_filename):\n",
        "    redirects = {}\n",
        "    res = {}\n",
        "    lines = get_lines(redirects_filename)\n",
        "    cont = 0\n",
        "    for arr in tqdm.tqdm(lines):\n",
        "        key = arr[0][SLICE].decode(\"utf-8\")\n",
        "        res[key] = get_redirect(arr[2][SLICE].decode(\"utf-8\"), redirects)\n",
        "\n",
        "        # Limitando iterações devido a grande quantidade de dados\n",
        "        if cont == 1_000_000:\n",
        "          break\n",
        "        cont += 1\n",
        "    return res\n",
        "\n",
        "\n",
        "redirects = get_redirects(REDIRECTS_FILENAME)"
      ],
      "metadata": {
        "colab": {
          "base_uri": "https://localhost:8080/",
          "height": 49,
          "referenced_widgets": [
            "29f63da355534036960f1a0ff43cbe51",
            "de9e3dce188f4dbdaa9195e03a911fb9",
            "e7fd6d64f61d4e78b8a561007c286888",
            "7a0d47a11e7c4ecd9fa016b8f7af7b06",
            "1880d6a0af71462e8874d252bfd232b0",
            "050425bf6b3f40dfa50149e05fd5308a",
            "2267b567249844b8ba4896c30f7617f4",
            "be51e303e2a64ce3bf8e91ad186856a7",
            "7c11de93852a4593b10bbfbd4a0a69ed",
            "6aadc8e9528549db884d3ae14775c016",
            "8ff3429ec5ae4fe19425ac053b1035ff"
          ]
        },
        "id": "h1UVpd8DGgxJ",
        "outputId": "3da25e8c-90d4-4229-859b-cb9359e8fe54"
      },
      "execution_count": null,
      "outputs": [
        {
          "output_type": "display_data",
          "data": {
            "text/plain": [
              "0it [00:00, ?it/s]"
            ],
            "application/vnd.jupyter.widget-view+json": {
              "version_major": 2,
              "version_minor": 0,
              "model_id": "29f63da355534036960f1a0ff43cbe51"
            }
          },
          "metadata": {}
        }
      ]
    },
    {
      "cell_type": "code",
      "source": [
        "def add_item(lst, redirects, index_map, item):\n",
        "    k = item[SLICE]\n",
        "    redirect_target = redirects.get(k)\n",
        "    res = True\n",
        "    if redirect_target is None:\n",
        "        res = False\n",
        "        redirect_target = k\n",
        "    update_index_map = index_map.setdefault(redirect_target, len(index_map))\n",
        "    lst.append(update_index_map)\n",
        "    return res"
      ],
      "metadata": {
        "id": "fXRZRSN39G4N"
      },
      "execution_count": null,
      "outputs": []
    },
    {
      "cell_type": "code",
      "source": [
        "# Computing the integer index map\n",
        "index_map = dict()  # links->IDs\n",
        "lines = get_lines(PAGE_LINKS_FILENAME)\n",
        "source, destination, data = [], [], []\n",
        "cont = 0\n",
        "for l, split in tqdm.tqdm(enumerate(lines)):\n",
        "    add_item(source, redirects, index_map, split[0].decode(\"utf-8\"))\n",
        "    add_item(destination, redirects, index_map, split[2].decode(\"utf-8\"))\n",
        "    data.append(1)\n",
        "\n",
        "    # Limitando iterações devido a grande quantidade de dados\n",
        "    if cont == 1_000_000:\n",
        "      break\n",
        "    cont += 1\n",
        "\n",
        "len(index_map)"
      ],
      "metadata": {
        "colab": {
          "base_uri": "https://localhost:8080/",
          "height": 66,
          "referenced_widgets": [
            "0af1ab124e224b5ea644fcab39dd0677",
            "91eba1ef292f44d5bd12d4526839a63a",
            "4c506d64781c412d8dccc9bfbe664a75",
            "07bb15d5b4274699a8c55515f51570ea",
            "70b7a1ea674648be9455caceb3a71e21",
            "7aa3da1f99364cee8d0f8a2fe11563b6",
            "759991979044423892e9e5ed2cb7dc59",
            "642fa100674e4e3089fc433fd28d074a",
            "336f2465d4834109b1ad82985b0fd703",
            "283fbe98542f4627a3b0b19548434659",
            "9ad1e188abb544109853562b063a90f6"
          ]
        },
        "id": "-AdE64Sp9I6F",
        "outputId": "d16fa1da-7fec-43af-9ed3-cd10dea6c423"
      },
      "execution_count": null,
      "outputs": [
        {
          "output_type": "display_data",
          "data": {
            "text/plain": [
              "0it [00:00, ?it/s]"
            ],
            "application/vnd.jupyter.widget-view+json": {
              "version_major": 2,
              "version_minor": 0,
              "model_id": "0af1ab124e224b5ea644fcab39dd0677"
            }
          },
          "metadata": {}
        },
        {
          "output_type": "execute_result",
          "data": {
            "text/plain": [
              "370075"
            ]
          },
          "metadata": {},
          "execution_count": 7
        }
      ]
    },
    {
      "cell_type": "markdown",
      "source": [
        "O dicionário final conta com mais de 370 mil índices. Vamos criar uma cópia do mesmo e verificar algumas informações"
      ],
      "metadata": {
        "id": "y6p74W5cKzIN"
      }
    },
    {
      "cell_type": "code",
      "source": [
        "index_map_copy = index_map.copy()"
      ],
      "metadata": {
        "id": "JosxO6bF9NZx"
      },
      "execution_count": null,
      "outputs": []
    },
    {
      "cell_type": "markdown",
      "source": [
        "Verificando o id da página \"FIFA_World_Cup\""
      ],
      "metadata": {
        "id": "eAoZNBjrLAfg"
      }
    },
    {
      "cell_type": "code",
      "source": [
        "FIFA_WORLD_CUP_PAGE_ID = index_map_copy['FIFA_World_Cup']\n",
        "FIFA_WORLD_CUP_PAGE_ID"
      ],
      "metadata": {
        "colab": {
          "base_uri": "https://localhost:8080/"
        },
        "id": "BttTN9J99ODF",
        "outputId": "3a5a7124-81ea-4980-c833-51f970a909a2"
      },
      "execution_count": null,
      "outputs": [
        {
          "output_type": "execute_result",
          "data": {
            "text/plain": [
              "124417"
            ]
          },
          "metadata": {},
          "execution_count": 9
        }
      ]
    },
    {
      "cell_type": "markdown",
      "source": [
        "Buscando as 5 primeiras páginas que possuem links para a página \"FIFA_World_Cup\""
      ],
      "metadata": {
        "id": "_gd1b0SgkjQf"
      }
    },
    {
      "cell_type": "code",
      "source": [
        "[i for i, x in enumerate(source) if x == FIFA_WORLD_CUP_PAGE_ID][:5]"
      ],
      "metadata": {
        "colab": {
          "base_uri": "https://localhost:8080/"
        },
        "id": "ilm8PnI-9WzB",
        "outputId": "f40508cb-bbc1-4704-decf-3249af32689a"
      },
      "execution_count": null,
      "outputs": [
        {
          "output_type": "execute_result",
          "data": {
            "text/plain": [
              "[901222, 901223, 901224, 901225, 901226]"
            ]
          },
          "metadata": {},
          "execution_count": 10
        }
      ]
    },
    {
      "cell_type": "markdown",
      "source": [
        "Vamos utilizar a primeira página, cujo id vale 901222, como exemplo"
      ],
      "metadata": {
        "id": "SbipnJi3lCG1"
      }
    },
    {
      "cell_type": "code",
      "source": [
        "for page_name, index in index_map_copy.items():\n",
        "    if index == destination[901222]:\n",
        "        print(page_name)"
      ],
      "metadata": {
        "colab": {
          "base_uri": "https://localhost:8080/"
        },
        "id": "oVgpOVbE9eq_",
        "outputId": "37d4a24c-f444-43fb-9598-3e86ddb8844a"
      },
      "execution_count": null,
      "outputs": [
        {
          "output_type": "stream",
          "name": "stdout",
          "text": [
            "FIFA_World_Cup_Trophy\n"
          ]
        }
      ]
    },
    {
      "cell_type": "markdown",
      "source": [
        "Ao acessar o <a href=\"https://en.wikipedia.org/wiki/FIFA_World_Cup_Trophy\">link</a> da página \"FIFA_World_Cup_Trophy\" vemos que realmente ocorre uma citação para a página \"FIFA_World_Cup\""
      ],
      "metadata": {
        "id": "yfME3P5Wlc0z"
      }
    },
    {
      "cell_type": "markdown",
      "metadata": {
        "id": "cHPYYfYAvMss"
      },
      "source": [
        "<div class=\"alert alert-block alert-info\">\n",
        "5. CASOS DE USO\n",
        "</div>"
      ]
    },
    {
      "cell_type": "markdown",
      "source": [
        "## 5.1 Utilizando base de dados EN (carregados previamente)"
      ],
      "metadata": {
        "id": "68AE6STpv9FO"
      }
    },
    {
      "cell_type": "markdown",
      "source": [
        "Com base nos arquivos carregados nas etapas anteriores, criaremos uma matriz esparsa dos dados:"
      ],
      "metadata": {
        "id": "fREe1cD0otwr"
      }
    },
    {
      "cell_type": "code",
      "source": [
        "n=len(data)\n",
        "sparse_matrix = sparse.coo_matrix((data, (destination,source)), shape=(n,n), dtype=np.float32)\n",
        "sparse_matrix_csr = sparse_matrix.tocsr()"
      ],
      "metadata": {
        "id": "a3TwJTiPo7Am"
      },
      "execution_count": null,
      "outputs": []
    },
    {
      "cell_type": "markdown",
      "source": [
        "Para poupar tempo e consumo de memória, o autor salva a matriz esparsa e o dicionário de itens em dois arquivos, evitando assim recompilá-los sempre."
      ],
      "metadata": {
        "id": "sYe4vNmOtQmZ"
      }
    },
    {
      "cell_type": "code",
      "source": [
        "SPARSE_MATRIX_EN_FILENAME = 'sparse_matrix_EN.pkl'\n",
        "INDEX_MAP_EN_FILENAME = 'index_map_EN.pkl'\n",
        "\n",
        "pickle.dump(sparse_matrix_csr, open(SPARSE_MATRIX_EN_FILENAME, 'wb'))\n",
        "pickle.dump(index_map_copy, open(INDEX_MAP_EN_FILENAME, 'wb'))"
      ],
      "metadata": {
        "id": "awpM4n_WpjUI"
      },
      "execution_count": null,
      "outputs": []
    },
    {
      "cell_type": "markdown",
      "source": [
        "Para carregar os arquivos basta descomentar e executar a célula abaixo:"
      ],
      "metadata": {
        "id": "7DyHGRLKtw4M"
      }
    },
    {
      "cell_type": "code",
      "source": [
        "# sparse_matrix_csr = pickle.load(open(SPARSE_MATRIX_EN_FILENAME, 'rb'))\n",
        "# index_map_copy = pickle.load(open(INDEX_MAP_EN_FILENAME, 'rb'))"
      ],
      "metadata": {
        "id": "RuGSsXN_pnQI"
      },
      "execution_count": null,
      "outputs": []
    },
    {
      "cell_type": "markdown",
      "source": [
        "Para facilitar a apresentação dos dados no resultado, o autor criou um dicionário onde o id da página representa o índice e o nome da página representa o valor"
      ],
      "metadata": {
        "id": "qWdceUDht7oy"
      }
    },
    {
      "cell_type": "code",
      "source": [
        "names = {i: name for name, i in index_map_copy.items()}\n",
        "names[FIFA_WORLD_CUP_PAGE_ID]"
      ],
      "metadata": {
        "colab": {
          "base_uri": "https://localhost:8080/",
          "height": 35
        },
        "id": "snuA5xzgttNg",
        "outputId": "e1f339cc-fa06-4e82-b4d4-08097cb01758"
      },
      "execution_count": null,
      "outputs": [
        {
          "output_type": "execute_result",
          "data": {
            "text/plain": [
              "'FIFA_World_Cup'"
            ],
            "application/vnd.google.colaboratory.intrinsic+json": {
              "type": "string"
            }
          },
          "metadata": {},
          "execution_count": 15
        }
      ]
    },
    {
      "cell_type": "markdown",
      "source": [
        "Por fim iremos utilizar o Power Method para encontrarmos as páginas com melhor rank da nossa base de dados."
      ],
      "metadata": {
        "id": "FpHi10dEuiNO"
      }
    },
    {
      "cell_type": "code",
      "source": [
        "def show_ex(v):\n",
        "    print(',\\n'.join(names[i] for i in np.abs(v.squeeze()).argsort()[-1:-10:-1]))\n",
        "    \n",
        "def power_method(A, max_iter=100):\n",
        "    n = A.shape[1]\n",
        "    A.data /= np.take(A.sum(axis=0).A1, A.indices)\n",
        "\n",
        "    scores = np.ones(n, dtype=np.float32) * np.sqrt(A.sum()/(n*n)) # initial guess\n",
        "    for i in range(max_iter):\n",
        "        scores = A @ scores\n",
        "        nrm = np.linalg.norm(scores)\n",
        "        scores /= nrm\n",
        "\n",
        "    return scores"
      ],
      "metadata": {
        "id": "RksUPEUvqpbN"
      },
      "execution_count": null,
      "outputs": []
    },
    {
      "cell_type": "code",
      "source": [
        "scores = power_method(sparse_matrix_csr)\n",
        "show_ex(scores)"
      ],
      "metadata": {
        "colab": {
          "base_uri": "https://localhost:8080/"
        },
        "id": "rzPvcwspquuD",
        "outputId": "ffa0138f-dbad-4f5c-c86c-b097c509b6f8"
      },
      "execution_count": null,
      "outputs": [
        {
          "output_type": "stream",
          "name": "stdout",
          "text": [
            "France,\n",
            "Catholic_Church,\n",
            "Africa,\n",
            "Philosophy,\n",
            "Ethnic_group,\n",
            "Christian,\n",
            "Buddhism,\n",
            "Computer,\n",
            "Plato\n"
          ]
        }
      ]
    },
    {
      "cell_type": "markdown",
      "source": [
        "## 5.2 Utilizando base de dados PT-BR"
      ],
      "metadata": {
        "id": "GYE8INZBwNcD"
      }
    },
    {
      "cell_type": "markdown",
      "source": [
        "Antes de aplicar o Power Method, precisamos refazer as etapas de download e manipulação, para obtermos os dados na estrutura esperada pela função"
      ],
      "metadata": {
        "id": "UEw278e4wu6O"
      }
    },
    {
      "cell_type": "code",
      "source": [
        "PT_URL_BASE = 'http://downloads.dbpedia.org/3.8/pt/'\n",
        "PT_REDIRECTS_FILENAME = 'redirects_pt.nt.bz2'\n",
        "PT_PAGE_LINKS_FILENAME = 'page_links_pt.nt.bz2'\n",
        "\n",
        "PT_DBPEDIA_RESOURCE_PREFIX_LEN = len(\"http://dbpedia.org/resource/\")\n",
        "PT_SLICE = slice(PT_DBPEDIA_RESOURCE_PREFIX_LEN + 1, -1)\n",
        "\n",
        "pt_filenames = [PT_REDIRECTS_FILENAME, PT_PAGE_LINKS_FILENAME]"
      ],
      "metadata": {
        "id": "REjjxHTNxBxz"
      },
      "execution_count": null,
      "outputs": []
    },
    {
      "cell_type": "markdown",
      "source": [
        "### Baixando os dados"
      ],
      "metadata": {
        "id": "f5FUI24SxBx0"
      }
    },
    {
      "cell_type": "code",
      "source": [
        "for filename in pt_filenames:\n",
        "    if not os.path.exists(filename):\n",
        "        print(\"Downloading '%s', please wait...\" % filename)\n",
        "        open(filename, 'wb').write(urlopen(PT_URL_BASE+filename).read())"
      ],
      "metadata": {
        "id": "c34TpcNsxBx1",
        "colab": {
          "base_uri": "https://localhost:8080/"
        },
        "outputId": "838b8d4b-d56c-4f99-9738-bad23bec1c14"
      },
      "execution_count": null,
      "outputs": [
        {
          "output_type": "stream",
          "name": "stdout",
          "text": [
            "Downloading 'redirects_pt.nt.bz2', please wait...\n",
            "Downloading 'page_links_pt.nt.bz2', please wait...\n"
          ]
        }
      ]
    },
    {
      "cell_type": "markdown",
      "source": [
        "### Organizando os dados e montando as estruturas esperadas"
      ],
      "metadata": {
        "id": "52pokd2xz1S6"
      }
    },
    {
      "cell_type": "code",
      "source": [
        "pt_redirects = get_redirects(PT_REDIRECTS_FILENAME)"
      ],
      "metadata": {
        "colab": {
          "base_uri": "https://localhost:8080/",
          "height": 49,
          "referenced_widgets": [
            "0f01a380e4c743efa703f5647095cd1a",
            "aebaef20432e4af89dda9169d0e30070",
            "5d11f3709f03498ba7e68e1ce7c29ee0",
            "ca6aa014c94d42449d995e84a673263c",
            "6f156c2eb4de4d2c8af5e682feb44b3d",
            "2f760c4350764f84a51405ff93996e65",
            "926692d4a1a7481e920fe058c1a403ae",
            "8e67a0e922d54097be162ad417196f60",
            "e8c394818bcd458faf67723258454b6f",
            "d9fd8d16768a44799347fbae2d05b839",
            "cffbbf142a75467f98854defc9576a29"
          ]
        },
        "id": "Nw6YLWzXxBx1",
        "outputId": "81a0013d-52fd-4261-c7e0-7b9efa5085e0"
      },
      "execution_count": null,
      "outputs": [
        {
          "output_type": "display_data",
          "data": {
            "text/plain": [
              "0it [00:00, ?it/s]"
            ],
            "application/vnd.jupyter.widget-view+json": {
              "version_major": 2,
              "version_minor": 0,
              "model_id": "0f01a380e4c743efa703f5647095cd1a"
            }
          },
          "metadata": {}
        }
      ]
    },
    {
      "cell_type": "code",
      "source": [
        "# Computing the integer index map\n",
        "pt_index_map = dict()  # links->IDs\n",
        "pt_lines = get_lines(PT_PAGE_LINKS_FILENAME)\n",
        "pt_source, pt_destination, pt_data = [], [], []\n",
        "cont = 0\n",
        "for l, split in tqdm.tqdm(enumerate(pt_lines)):\n",
        "    add_item(pt_source, pt_redirects, pt_index_map, split[0].decode(\"utf-8\"))\n",
        "    add_item(pt_destination, pt_redirects, pt_index_map, split[2].decode(\"utf-8\"))\n",
        "    pt_data.append(1)\n",
        "\n",
        "    # Limitando iterações devido a grande quantidade de dados\n",
        "    if cont == 1_000_000:\n",
        "      break\n",
        "    cont += 1\n",
        "\n",
        "len(pt_index_map)"
      ],
      "metadata": {
        "colab": {
          "base_uri": "https://localhost:8080/",
          "height": 66,
          "referenced_widgets": [
            "1d27e1085f79448fb3f864520d5d238e",
            "02c8762fe000451a985905384073d6b6",
            "083cf7a6e5244d7e82085dea138d2474",
            "d9175cf4ce194b9b940a41f85a22dd10",
            "df4ad02d4464485ea0c2e4a36cd15207",
            "82591687696f4681b933011390506014",
            "0fc2a0764d4d4c03891f029fb2291d04",
            "97d4ff7ac01044e5bbc3ae17ddd77d5c",
            "7147020a4f464e10b62d0ca573163657",
            "e0dbda7b1b384235ba31bd9507e7d9b4",
            "649a2fbd382e417798ec67f8159cffc5"
          ]
        },
        "id": "_DCnTdhuyCr4",
        "outputId": "39bac369-71d3-4377-9a6f-bbb9c1dcd351"
      },
      "execution_count": null,
      "outputs": [
        {
          "output_type": "display_data",
          "data": {
            "text/plain": [
              "0it [00:00, ?it/s]"
            ],
            "application/vnd.jupyter.widget-view+json": {
              "version_major": 2,
              "version_minor": 0,
              "model_id": "1d27e1085f79448fb3f864520d5d238e"
            }
          },
          "metadata": {}
        },
        {
          "output_type": "execute_result",
          "data": {
            "text/plain": [
              "234657"
            ]
          },
          "metadata": {},
          "execution_count": 21
        }
      ]
    },
    {
      "cell_type": "markdown",
      "source": [
        "Dessa vez, o dicionário final contou com cerca de 234 mil índices."
      ],
      "metadata": {
        "id": "arY-MiAh1yR3"
      }
    },
    {
      "cell_type": "markdown",
      "source": [
        "Criando uma cópia dos dados para análise"
      ],
      "metadata": {
        "id": "qM-mcE2b0c7l"
      }
    },
    {
      "cell_type": "code",
      "source": [
        "pt_index_map_copy = pt_index_map.copy()"
      ],
      "metadata": {
        "id": "dElc5cmeycCy"
      },
      "execution_count": null,
      "outputs": []
    },
    {
      "cell_type": "markdown",
      "source": [
        "Criando a matriz esparsa"
      ],
      "metadata": {
        "id": "GAEktRQ0y1MQ"
      }
    },
    {
      "cell_type": "code",
      "source": [
        "pt_n=len(pt_data)\n",
        "pt_sparse_matrix = sparse.coo_matrix((pt_data, (pt_destination,pt_source)), shape=(pt_n,pt_n), dtype=np.float32)\n",
        "pt_sparse_matrix_csr = pt_sparse_matrix.tocsr()"
      ],
      "metadata": {
        "id": "vkfrFFkUy1Mq"
      },
      "execution_count": null,
      "outputs": []
    },
    {
      "cell_type": "markdown",
      "source": [
        "Métodos para salvar e carregar os dados obtidos (caso necessário)"
      ],
      "metadata": {
        "id": "kL1_Q45Oy1Mr"
      }
    },
    {
      "cell_type": "code",
      "source": [
        "# SPARSE_MATRIX_PT_FILENAME = 'sparse_matrix_PT.pkl'\n",
        "# INDEX_MAP_PT_FILENAME = 'index_map_PT.pkl'\n",
        "\n",
        "# pickle.dump(pt_sparse_matrix_csr, open(SPARSE_MATRIX_PT_FILENAME, 'wb'))\n",
        "# pickle.dump(pt_index_map_copy, open(INDEX_MAP_PT_FILENAME, 'wb'))"
      ],
      "metadata": {
        "id": "PNTl03aey1Mr"
      },
      "execution_count": null,
      "outputs": []
    },
    {
      "cell_type": "code",
      "source": [
        "# pt_sparse_matrix_csr = pickle.load(open(SPARSE_MATRIX_PT_FILENAME, 'rb'))\n",
        "# pt_index_map_copy = pickle.load(open(INDEX_MAP_PT_FILENAME, 'rb'))"
      ],
      "metadata": {
        "id": "fuAqcyyvy1Ms"
      },
      "execution_count": null,
      "outputs": []
    },
    {
      "cell_type": "markdown",
      "source": [
        "Criando dicionário chave valor para armazenar id e nome da página"
      ],
      "metadata": {
        "id": "DDrpf16Hy1Ms"
      }
    },
    {
      "cell_type": "code",
      "source": [
        "pt_names = {i: name for name, i in pt_index_map_copy.items()}"
      ],
      "metadata": {
        "id": "UiiMOMXoy1Ms"
      },
      "execution_count": null,
      "outputs": []
    },
    {
      "cell_type": "markdown",
      "source": [
        "Por fim, utilizando o Power Method para encontrarmos as páginas com melhor rank."
      ],
      "metadata": {
        "id": "S3g4rgdMy1Mt"
      }
    },
    {
      "cell_type": "code",
      "source": [
        "def show_ex(v):\n",
        "    print(',\\n'.join(pt_names[i].replace('ce/', '') for i in np.abs(v.squeeze()).argsort()[-1:-10:-1]))\n",
        "    \n",
        "def power_method(A, max_iter=100):\n",
        "    n = A.shape[1]\n",
        "    A.data /= np.take(A.sum(axis=0).A1, A.indices)\n",
        "\n",
        "    scores = np.ones(n, dtype=np.float32) * np.sqrt(A.sum()/(n*n)) # initial guess\n",
        "    for i in range(max_iter):\n",
        "        scores = A @ scores\n",
        "        nrm = np.linalg.norm(scores)\n",
        "        scores /= nrm\n",
        "\n",
        "    return scores"
      ],
      "metadata": {
        "id": "_S-ggzx_y1Mu"
      },
      "execution_count": null,
      "outputs": []
    },
    {
      "cell_type": "code",
      "source": [
        "pt_scores = power_method(pt_sparse_matrix_csr)\n",
        "show_ex(pt_scores)"
      ],
      "metadata": {
        "colab": {
          "base_uri": "https://localhost:8080/"
        },
        "outputId": "d851de4c-65ff-4062-82bc-a7bbb91b3e56",
        "id": "iyNO0XWLy1Mv"
      },
      "execution_count": null,
      "outputs": [
        {
          "output_type": "stream",
          "name": "stdout",
          "text": [
            "Orix\\u00E1,\n",
            "Roma_Antiga,\n",
            "Computador,\n",
            "Gr\\u00E9cia_Antiga,\n",
            "Anexo:Lista_de_reis_de_Portugal,\n",
            "Eukaryota,\n",
            "M\\u00E9dio_Oriente,\n",
            "Folha,\n",
            "Pedro_I_do_Brasil\n"
          ]
        }
      ]
    }
  ],
  "metadata": {
    "kernelspec": {
      "display_name": "Python 3",
      "language": "python",
      "name": "python3"
    },
    "language_info": {
      "codemirror_mode": {
        "name": "ipython",
        "version": 3
      },
      "file_extension": ".py",
      "mimetype": "text/x-python",
      "name": "python",
      "nbconvert_exporter": "python",
      "pygments_lexer": "ipython3",
      "version": "3.8.5"
    },
    "colab": {
      "provenance": []
    },
    "widgets": {
      "application/vnd.jupyter.widget-state+json": {
        "29f63da355534036960f1a0ff43cbe51": {
          "model_module": "@jupyter-widgets/controls",
          "model_name": "HBoxModel",
          "model_module_version": "1.5.0",
          "state": {
            "_dom_classes": [],
            "_model_module": "@jupyter-widgets/controls",
            "_model_module_version": "1.5.0",
            "_model_name": "HBoxModel",
            "_view_count": null,
            "_view_module": "@jupyter-widgets/controls",
            "_view_module_version": "1.5.0",
            "_view_name": "HBoxView",
            "box_style": "",
            "children": [
              "IPY_MODEL_de9e3dce188f4dbdaa9195e03a911fb9",
              "IPY_MODEL_e7fd6d64f61d4e78b8a561007c286888",
              "IPY_MODEL_7a0d47a11e7c4ecd9fa016b8f7af7b06"
            ],
            "layout": "IPY_MODEL_1880d6a0af71462e8874d252bfd232b0"
          }
        },
        "de9e3dce188f4dbdaa9195e03a911fb9": {
          "model_module": "@jupyter-widgets/controls",
          "model_name": "HTMLModel",
          "model_module_version": "1.5.0",
          "state": {
            "_dom_classes": [],
            "_model_module": "@jupyter-widgets/controls",
            "_model_module_version": "1.5.0",
            "_model_name": "HTMLModel",
            "_view_count": null,
            "_view_module": "@jupyter-widgets/controls",
            "_view_module_version": "1.5.0",
            "_view_name": "HTMLView",
            "description": "",
            "description_tooltip": null,
            "layout": "IPY_MODEL_050425bf6b3f40dfa50149e05fd5308a",
            "placeholder": "​",
            "style": "IPY_MODEL_2267b567249844b8ba4896c30f7617f4",
            "value": ""
          }
        },
        "e7fd6d64f61d4e78b8a561007c286888": {
          "model_module": "@jupyter-widgets/controls",
          "model_name": "FloatProgressModel",
          "model_module_version": "1.5.0",
          "state": {
            "_dom_classes": [],
            "_model_module": "@jupyter-widgets/controls",
            "_model_module_version": "1.5.0",
            "_model_name": "FloatProgressModel",
            "_view_count": null,
            "_view_module": "@jupyter-widgets/controls",
            "_view_module_version": "1.5.0",
            "_view_name": "ProgressView",
            "bar_style": "danger",
            "description": "",
            "description_tooltip": null,
            "layout": "IPY_MODEL_be51e303e2a64ce3bf8e91ad186856a7",
            "max": 1,
            "min": 0,
            "orientation": "horizontal",
            "style": "IPY_MODEL_7c11de93852a4593b10bbfbd4a0a69ed",
            "value": 1
          }
        },
        "7a0d47a11e7c4ecd9fa016b8f7af7b06": {
          "model_module": "@jupyter-widgets/controls",
          "model_name": "HTMLModel",
          "model_module_version": "1.5.0",
          "state": {
            "_dom_classes": [],
            "_model_module": "@jupyter-widgets/controls",
            "_model_module_version": "1.5.0",
            "_model_name": "HTMLModel",
            "_view_count": null,
            "_view_module": "@jupyter-widgets/controls",
            "_view_module_version": "1.5.0",
            "_view_name": "HTMLView",
            "description": "",
            "description_tooltip": null,
            "layout": "IPY_MODEL_6aadc8e9528549db884d3ae14775c016",
            "placeholder": "​",
            "style": "IPY_MODEL_8ff3429ec5ae4fe19425ac053b1035ff",
            "value": " 1000000/? [00:14&lt;00:00, 72676.78it/s]"
          }
        },
        "1880d6a0af71462e8874d252bfd232b0": {
          "model_module": "@jupyter-widgets/base",
          "model_name": "LayoutModel",
          "model_module_version": "1.2.0",
          "state": {
            "_model_module": "@jupyter-widgets/base",
            "_model_module_version": "1.2.0",
            "_model_name": "LayoutModel",
            "_view_count": null,
            "_view_module": "@jupyter-widgets/base",
            "_view_module_version": "1.2.0",
            "_view_name": "LayoutView",
            "align_content": null,
            "align_items": null,
            "align_self": null,
            "border": null,
            "bottom": null,
            "display": null,
            "flex": null,
            "flex_flow": null,
            "grid_area": null,
            "grid_auto_columns": null,
            "grid_auto_flow": null,
            "grid_auto_rows": null,
            "grid_column": null,
            "grid_gap": null,
            "grid_row": null,
            "grid_template_areas": null,
            "grid_template_columns": null,
            "grid_template_rows": null,
            "height": null,
            "justify_content": null,
            "justify_items": null,
            "left": null,
            "margin": null,
            "max_height": null,
            "max_width": null,
            "min_height": null,
            "min_width": null,
            "object_fit": null,
            "object_position": null,
            "order": null,
            "overflow": null,
            "overflow_x": null,
            "overflow_y": null,
            "padding": null,
            "right": null,
            "top": null,
            "visibility": null,
            "width": null
          }
        },
        "050425bf6b3f40dfa50149e05fd5308a": {
          "model_module": "@jupyter-widgets/base",
          "model_name": "LayoutModel",
          "model_module_version": "1.2.0",
          "state": {
            "_model_module": "@jupyter-widgets/base",
            "_model_module_version": "1.2.0",
            "_model_name": "LayoutModel",
            "_view_count": null,
            "_view_module": "@jupyter-widgets/base",
            "_view_module_version": "1.2.0",
            "_view_name": "LayoutView",
            "align_content": null,
            "align_items": null,
            "align_self": null,
            "border": null,
            "bottom": null,
            "display": null,
            "flex": null,
            "flex_flow": null,
            "grid_area": null,
            "grid_auto_columns": null,
            "grid_auto_flow": null,
            "grid_auto_rows": null,
            "grid_column": null,
            "grid_gap": null,
            "grid_row": null,
            "grid_template_areas": null,
            "grid_template_columns": null,
            "grid_template_rows": null,
            "height": null,
            "justify_content": null,
            "justify_items": null,
            "left": null,
            "margin": null,
            "max_height": null,
            "max_width": null,
            "min_height": null,
            "min_width": null,
            "object_fit": null,
            "object_position": null,
            "order": null,
            "overflow": null,
            "overflow_x": null,
            "overflow_y": null,
            "padding": null,
            "right": null,
            "top": null,
            "visibility": null,
            "width": null
          }
        },
        "2267b567249844b8ba4896c30f7617f4": {
          "model_module": "@jupyter-widgets/controls",
          "model_name": "DescriptionStyleModel",
          "model_module_version": "1.5.0",
          "state": {
            "_model_module": "@jupyter-widgets/controls",
            "_model_module_version": "1.5.0",
            "_model_name": "DescriptionStyleModel",
            "_view_count": null,
            "_view_module": "@jupyter-widgets/base",
            "_view_module_version": "1.2.0",
            "_view_name": "StyleView",
            "description_width": ""
          }
        },
        "be51e303e2a64ce3bf8e91ad186856a7": {
          "model_module": "@jupyter-widgets/base",
          "model_name": "LayoutModel",
          "model_module_version": "1.2.0",
          "state": {
            "_model_module": "@jupyter-widgets/base",
            "_model_module_version": "1.2.0",
            "_model_name": "LayoutModel",
            "_view_count": null,
            "_view_module": "@jupyter-widgets/base",
            "_view_module_version": "1.2.0",
            "_view_name": "LayoutView",
            "align_content": null,
            "align_items": null,
            "align_self": null,
            "border": null,
            "bottom": null,
            "display": null,
            "flex": null,
            "flex_flow": null,
            "grid_area": null,
            "grid_auto_columns": null,
            "grid_auto_flow": null,
            "grid_auto_rows": null,
            "grid_column": null,
            "grid_gap": null,
            "grid_row": null,
            "grid_template_areas": null,
            "grid_template_columns": null,
            "grid_template_rows": null,
            "height": null,
            "justify_content": null,
            "justify_items": null,
            "left": null,
            "margin": null,
            "max_height": null,
            "max_width": null,
            "min_height": null,
            "min_width": null,
            "object_fit": null,
            "object_position": null,
            "order": null,
            "overflow": null,
            "overflow_x": null,
            "overflow_y": null,
            "padding": null,
            "right": null,
            "top": null,
            "visibility": null,
            "width": "20px"
          }
        },
        "7c11de93852a4593b10bbfbd4a0a69ed": {
          "model_module": "@jupyter-widgets/controls",
          "model_name": "ProgressStyleModel",
          "model_module_version": "1.5.0",
          "state": {
            "_model_module": "@jupyter-widgets/controls",
            "_model_module_version": "1.5.0",
            "_model_name": "ProgressStyleModel",
            "_view_count": null,
            "_view_module": "@jupyter-widgets/base",
            "_view_module_version": "1.2.0",
            "_view_name": "StyleView",
            "bar_color": null,
            "description_width": ""
          }
        },
        "6aadc8e9528549db884d3ae14775c016": {
          "model_module": "@jupyter-widgets/base",
          "model_name": "LayoutModel",
          "model_module_version": "1.2.0",
          "state": {
            "_model_module": "@jupyter-widgets/base",
            "_model_module_version": "1.2.0",
            "_model_name": "LayoutModel",
            "_view_count": null,
            "_view_module": "@jupyter-widgets/base",
            "_view_module_version": "1.2.0",
            "_view_name": "LayoutView",
            "align_content": null,
            "align_items": null,
            "align_self": null,
            "border": null,
            "bottom": null,
            "display": null,
            "flex": null,
            "flex_flow": null,
            "grid_area": null,
            "grid_auto_columns": null,
            "grid_auto_flow": null,
            "grid_auto_rows": null,
            "grid_column": null,
            "grid_gap": null,
            "grid_row": null,
            "grid_template_areas": null,
            "grid_template_columns": null,
            "grid_template_rows": null,
            "height": null,
            "justify_content": null,
            "justify_items": null,
            "left": null,
            "margin": null,
            "max_height": null,
            "max_width": null,
            "min_height": null,
            "min_width": null,
            "object_fit": null,
            "object_position": null,
            "order": null,
            "overflow": null,
            "overflow_x": null,
            "overflow_y": null,
            "padding": null,
            "right": null,
            "top": null,
            "visibility": null,
            "width": null
          }
        },
        "8ff3429ec5ae4fe19425ac053b1035ff": {
          "model_module": "@jupyter-widgets/controls",
          "model_name": "DescriptionStyleModel",
          "model_module_version": "1.5.0",
          "state": {
            "_model_module": "@jupyter-widgets/controls",
            "_model_module_version": "1.5.0",
            "_model_name": "DescriptionStyleModel",
            "_view_count": null,
            "_view_module": "@jupyter-widgets/base",
            "_view_module_version": "1.2.0",
            "_view_name": "StyleView",
            "description_width": ""
          }
        },
        "0af1ab124e224b5ea644fcab39dd0677": {
          "model_module": "@jupyter-widgets/controls",
          "model_name": "HBoxModel",
          "model_module_version": "1.5.0",
          "state": {
            "_dom_classes": [],
            "_model_module": "@jupyter-widgets/controls",
            "_model_module_version": "1.5.0",
            "_model_name": "HBoxModel",
            "_view_count": null,
            "_view_module": "@jupyter-widgets/controls",
            "_view_module_version": "1.5.0",
            "_view_name": "HBoxView",
            "box_style": "",
            "children": [
              "IPY_MODEL_91eba1ef292f44d5bd12d4526839a63a",
              "IPY_MODEL_4c506d64781c412d8dccc9bfbe664a75",
              "IPY_MODEL_07bb15d5b4274699a8c55515f51570ea"
            ],
            "layout": "IPY_MODEL_70b7a1ea674648be9455caceb3a71e21"
          }
        },
        "91eba1ef292f44d5bd12d4526839a63a": {
          "model_module": "@jupyter-widgets/controls",
          "model_name": "HTMLModel",
          "model_module_version": "1.5.0",
          "state": {
            "_dom_classes": [],
            "_model_module": "@jupyter-widgets/controls",
            "_model_module_version": "1.5.0",
            "_model_name": "HTMLModel",
            "_view_count": null,
            "_view_module": "@jupyter-widgets/controls",
            "_view_module_version": "1.5.0",
            "_view_name": "HTMLView",
            "description": "",
            "description_tooltip": null,
            "layout": "IPY_MODEL_7aa3da1f99364cee8d0f8a2fe11563b6",
            "placeholder": "​",
            "style": "IPY_MODEL_759991979044423892e9e5ed2cb7dc59",
            "value": ""
          }
        },
        "4c506d64781c412d8dccc9bfbe664a75": {
          "model_module": "@jupyter-widgets/controls",
          "model_name": "FloatProgressModel",
          "model_module_version": "1.5.0",
          "state": {
            "_dom_classes": [],
            "_model_module": "@jupyter-widgets/controls",
            "_model_module_version": "1.5.0",
            "_model_name": "FloatProgressModel",
            "_view_count": null,
            "_view_module": "@jupyter-widgets/controls",
            "_view_module_version": "1.5.0",
            "_view_name": "ProgressView",
            "bar_style": "danger",
            "description": "",
            "description_tooltip": null,
            "layout": "IPY_MODEL_642fa100674e4e3089fc433fd28d074a",
            "max": 1,
            "min": 0,
            "orientation": "horizontal",
            "style": "IPY_MODEL_336f2465d4834109b1ad82985b0fd703",
            "value": 1
          }
        },
        "07bb15d5b4274699a8c55515f51570ea": {
          "model_module": "@jupyter-widgets/controls",
          "model_name": "HTMLModel",
          "model_module_version": "1.5.0",
          "state": {
            "_dom_classes": [],
            "_model_module": "@jupyter-widgets/controls",
            "_model_module_version": "1.5.0",
            "_model_name": "HTMLModel",
            "_view_count": null,
            "_view_module": "@jupyter-widgets/controls",
            "_view_module_version": "1.5.0",
            "_view_name": "HTMLView",
            "description": "",
            "description_tooltip": null,
            "layout": "IPY_MODEL_283fbe98542f4627a3b0b19548434659",
            "placeholder": "​",
            "style": "IPY_MODEL_9ad1e188abb544109853562b063a90f6",
            "value": " 1000000/? [00:12&lt;00:00, 81284.65it/s]"
          }
        },
        "70b7a1ea674648be9455caceb3a71e21": {
          "model_module": "@jupyter-widgets/base",
          "model_name": "LayoutModel",
          "model_module_version": "1.2.0",
          "state": {
            "_model_module": "@jupyter-widgets/base",
            "_model_module_version": "1.2.0",
            "_model_name": "LayoutModel",
            "_view_count": null,
            "_view_module": "@jupyter-widgets/base",
            "_view_module_version": "1.2.0",
            "_view_name": "LayoutView",
            "align_content": null,
            "align_items": null,
            "align_self": null,
            "border": null,
            "bottom": null,
            "display": null,
            "flex": null,
            "flex_flow": null,
            "grid_area": null,
            "grid_auto_columns": null,
            "grid_auto_flow": null,
            "grid_auto_rows": null,
            "grid_column": null,
            "grid_gap": null,
            "grid_row": null,
            "grid_template_areas": null,
            "grid_template_columns": null,
            "grid_template_rows": null,
            "height": null,
            "justify_content": null,
            "justify_items": null,
            "left": null,
            "margin": null,
            "max_height": null,
            "max_width": null,
            "min_height": null,
            "min_width": null,
            "object_fit": null,
            "object_position": null,
            "order": null,
            "overflow": null,
            "overflow_x": null,
            "overflow_y": null,
            "padding": null,
            "right": null,
            "top": null,
            "visibility": null,
            "width": null
          }
        },
        "7aa3da1f99364cee8d0f8a2fe11563b6": {
          "model_module": "@jupyter-widgets/base",
          "model_name": "LayoutModel",
          "model_module_version": "1.2.0",
          "state": {
            "_model_module": "@jupyter-widgets/base",
            "_model_module_version": "1.2.0",
            "_model_name": "LayoutModel",
            "_view_count": null,
            "_view_module": "@jupyter-widgets/base",
            "_view_module_version": "1.2.0",
            "_view_name": "LayoutView",
            "align_content": null,
            "align_items": null,
            "align_self": null,
            "border": null,
            "bottom": null,
            "display": null,
            "flex": null,
            "flex_flow": null,
            "grid_area": null,
            "grid_auto_columns": null,
            "grid_auto_flow": null,
            "grid_auto_rows": null,
            "grid_column": null,
            "grid_gap": null,
            "grid_row": null,
            "grid_template_areas": null,
            "grid_template_columns": null,
            "grid_template_rows": null,
            "height": null,
            "justify_content": null,
            "justify_items": null,
            "left": null,
            "margin": null,
            "max_height": null,
            "max_width": null,
            "min_height": null,
            "min_width": null,
            "object_fit": null,
            "object_position": null,
            "order": null,
            "overflow": null,
            "overflow_x": null,
            "overflow_y": null,
            "padding": null,
            "right": null,
            "top": null,
            "visibility": null,
            "width": null
          }
        },
        "759991979044423892e9e5ed2cb7dc59": {
          "model_module": "@jupyter-widgets/controls",
          "model_name": "DescriptionStyleModel",
          "model_module_version": "1.5.0",
          "state": {
            "_model_module": "@jupyter-widgets/controls",
            "_model_module_version": "1.5.0",
            "_model_name": "DescriptionStyleModel",
            "_view_count": null,
            "_view_module": "@jupyter-widgets/base",
            "_view_module_version": "1.2.0",
            "_view_name": "StyleView",
            "description_width": ""
          }
        },
        "642fa100674e4e3089fc433fd28d074a": {
          "model_module": "@jupyter-widgets/base",
          "model_name": "LayoutModel",
          "model_module_version": "1.2.0",
          "state": {
            "_model_module": "@jupyter-widgets/base",
            "_model_module_version": "1.2.0",
            "_model_name": "LayoutModel",
            "_view_count": null,
            "_view_module": "@jupyter-widgets/base",
            "_view_module_version": "1.2.0",
            "_view_name": "LayoutView",
            "align_content": null,
            "align_items": null,
            "align_self": null,
            "border": null,
            "bottom": null,
            "display": null,
            "flex": null,
            "flex_flow": null,
            "grid_area": null,
            "grid_auto_columns": null,
            "grid_auto_flow": null,
            "grid_auto_rows": null,
            "grid_column": null,
            "grid_gap": null,
            "grid_row": null,
            "grid_template_areas": null,
            "grid_template_columns": null,
            "grid_template_rows": null,
            "height": null,
            "justify_content": null,
            "justify_items": null,
            "left": null,
            "margin": null,
            "max_height": null,
            "max_width": null,
            "min_height": null,
            "min_width": null,
            "object_fit": null,
            "object_position": null,
            "order": null,
            "overflow": null,
            "overflow_x": null,
            "overflow_y": null,
            "padding": null,
            "right": null,
            "top": null,
            "visibility": null,
            "width": "20px"
          }
        },
        "336f2465d4834109b1ad82985b0fd703": {
          "model_module": "@jupyter-widgets/controls",
          "model_name": "ProgressStyleModel",
          "model_module_version": "1.5.0",
          "state": {
            "_model_module": "@jupyter-widgets/controls",
            "_model_module_version": "1.5.0",
            "_model_name": "ProgressStyleModel",
            "_view_count": null,
            "_view_module": "@jupyter-widgets/base",
            "_view_module_version": "1.2.0",
            "_view_name": "StyleView",
            "bar_color": null,
            "description_width": ""
          }
        },
        "283fbe98542f4627a3b0b19548434659": {
          "model_module": "@jupyter-widgets/base",
          "model_name": "LayoutModel",
          "model_module_version": "1.2.0",
          "state": {
            "_model_module": "@jupyter-widgets/base",
            "_model_module_version": "1.2.0",
            "_model_name": "LayoutModel",
            "_view_count": null,
            "_view_module": "@jupyter-widgets/base",
            "_view_module_version": "1.2.0",
            "_view_name": "LayoutView",
            "align_content": null,
            "align_items": null,
            "align_self": null,
            "border": null,
            "bottom": null,
            "display": null,
            "flex": null,
            "flex_flow": null,
            "grid_area": null,
            "grid_auto_columns": null,
            "grid_auto_flow": null,
            "grid_auto_rows": null,
            "grid_column": null,
            "grid_gap": null,
            "grid_row": null,
            "grid_template_areas": null,
            "grid_template_columns": null,
            "grid_template_rows": null,
            "height": null,
            "justify_content": null,
            "justify_items": null,
            "left": null,
            "margin": null,
            "max_height": null,
            "max_width": null,
            "min_height": null,
            "min_width": null,
            "object_fit": null,
            "object_position": null,
            "order": null,
            "overflow": null,
            "overflow_x": null,
            "overflow_y": null,
            "padding": null,
            "right": null,
            "top": null,
            "visibility": null,
            "width": null
          }
        },
        "9ad1e188abb544109853562b063a90f6": {
          "model_module": "@jupyter-widgets/controls",
          "model_name": "DescriptionStyleModel",
          "model_module_version": "1.5.0",
          "state": {
            "_model_module": "@jupyter-widgets/controls",
            "_model_module_version": "1.5.0",
            "_model_name": "DescriptionStyleModel",
            "_view_count": null,
            "_view_module": "@jupyter-widgets/base",
            "_view_module_version": "1.2.0",
            "_view_name": "StyleView",
            "description_width": ""
          }
        },
        "0f01a380e4c743efa703f5647095cd1a": {
          "model_module": "@jupyter-widgets/controls",
          "model_name": "HBoxModel",
          "model_module_version": "1.5.0",
          "state": {
            "_dom_classes": [],
            "_model_module": "@jupyter-widgets/controls",
            "_model_module_version": "1.5.0",
            "_model_name": "HBoxModel",
            "_view_count": null,
            "_view_module": "@jupyter-widgets/controls",
            "_view_module_version": "1.5.0",
            "_view_name": "HBoxView",
            "box_style": "",
            "children": [
              "IPY_MODEL_aebaef20432e4af89dda9169d0e30070",
              "IPY_MODEL_5d11f3709f03498ba7e68e1ce7c29ee0",
              "IPY_MODEL_ca6aa014c94d42449d995e84a673263c"
            ],
            "layout": "IPY_MODEL_6f156c2eb4de4d2c8af5e682feb44b3d"
          }
        },
        "aebaef20432e4af89dda9169d0e30070": {
          "model_module": "@jupyter-widgets/controls",
          "model_name": "HTMLModel",
          "model_module_version": "1.5.0",
          "state": {
            "_dom_classes": [],
            "_model_module": "@jupyter-widgets/controls",
            "_model_module_version": "1.5.0",
            "_model_name": "HTMLModel",
            "_view_count": null,
            "_view_module": "@jupyter-widgets/controls",
            "_view_module_version": "1.5.0",
            "_view_name": "HTMLView",
            "description": "",
            "description_tooltip": null,
            "layout": "IPY_MODEL_2f760c4350764f84a51405ff93996e65",
            "placeholder": "​",
            "style": "IPY_MODEL_926692d4a1a7481e920fe058c1a403ae",
            "value": ""
          }
        },
        "5d11f3709f03498ba7e68e1ce7c29ee0": {
          "model_module": "@jupyter-widgets/controls",
          "model_name": "FloatProgressModel",
          "model_module_version": "1.5.0",
          "state": {
            "_dom_classes": [],
            "_model_module": "@jupyter-widgets/controls",
            "_model_module_version": "1.5.0",
            "_model_name": "FloatProgressModel",
            "_view_count": null,
            "_view_module": "@jupyter-widgets/controls",
            "_view_module_version": "1.5.0",
            "_view_name": "ProgressView",
            "bar_style": "success",
            "description": "",
            "description_tooltip": null,
            "layout": "IPY_MODEL_8e67a0e922d54097be162ad417196f60",
            "max": 1,
            "min": 0,
            "orientation": "horizontal",
            "style": "IPY_MODEL_e8c394818bcd458faf67723258454b6f",
            "value": 1
          }
        },
        "ca6aa014c94d42449d995e84a673263c": {
          "model_module": "@jupyter-widgets/controls",
          "model_name": "HTMLModel",
          "model_module_version": "1.5.0",
          "state": {
            "_dom_classes": [],
            "_model_module": "@jupyter-widgets/controls",
            "_model_module_version": "1.5.0",
            "_model_name": "HTMLModel",
            "_view_count": null,
            "_view_module": "@jupyter-widgets/controls",
            "_view_module_version": "1.5.0",
            "_view_name": "HTMLView",
            "description": "",
            "description_tooltip": null,
            "layout": "IPY_MODEL_d9fd8d16768a44799347fbae2d05b839",
            "placeholder": "​",
            "style": "IPY_MODEL_cffbbf142a75467f98854defc9576a29",
            "value": " 575073/? [00:07&lt;00:00, 67782.21it/s]"
          }
        },
        "6f156c2eb4de4d2c8af5e682feb44b3d": {
          "model_module": "@jupyter-widgets/base",
          "model_name": "LayoutModel",
          "model_module_version": "1.2.0",
          "state": {
            "_model_module": "@jupyter-widgets/base",
            "_model_module_version": "1.2.0",
            "_model_name": "LayoutModel",
            "_view_count": null,
            "_view_module": "@jupyter-widgets/base",
            "_view_module_version": "1.2.0",
            "_view_name": "LayoutView",
            "align_content": null,
            "align_items": null,
            "align_self": null,
            "border": null,
            "bottom": null,
            "display": null,
            "flex": null,
            "flex_flow": null,
            "grid_area": null,
            "grid_auto_columns": null,
            "grid_auto_flow": null,
            "grid_auto_rows": null,
            "grid_column": null,
            "grid_gap": null,
            "grid_row": null,
            "grid_template_areas": null,
            "grid_template_columns": null,
            "grid_template_rows": null,
            "height": null,
            "justify_content": null,
            "justify_items": null,
            "left": null,
            "margin": null,
            "max_height": null,
            "max_width": null,
            "min_height": null,
            "min_width": null,
            "object_fit": null,
            "object_position": null,
            "order": null,
            "overflow": null,
            "overflow_x": null,
            "overflow_y": null,
            "padding": null,
            "right": null,
            "top": null,
            "visibility": null,
            "width": null
          }
        },
        "2f760c4350764f84a51405ff93996e65": {
          "model_module": "@jupyter-widgets/base",
          "model_name": "LayoutModel",
          "model_module_version": "1.2.0",
          "state": {
            "_model_module": "@jupyter-widgets/base",
            "_model_module_version": "1.2.0",
            "_model_name": "LayoutModel",
            "_view_count": null,
            "_view_module": "@jupyter-widgets/base",
            "_view_module_version": "1.2.0",
            "_view_name": "LayoutView",
            "align_content": null,
            "align_items": null,
            "align_self": null,
            "border": null,
            "bottom": null,
            "display": null,
            "flex": null,
            "flex_flow": null,
            "grid_area": null,
            "grid_auto_columns": null,
            "grid_auto_flow": null,
            "grid_auto_rows": null,
            "grid_column": null,
            "grid_gap": null,
            "grid_row": null,
            "grid_template_areas": null,
            "grid_template_columns": null,
            "grid_template_rows": null,
            "height": null,
            "justify_content": null,
            "justify_items": null,
            "left": null,
            "margin": null,
            "max_height": null,
            "max_width": null,
            "min_height": null,
            "min_width": null,
            "object_fit": null,
            "object_position": null,
            "order": null,
            "overflow": null,
            "overflow_x": null,
            "overflow_y": null,
            "padding": null,
            "right": null,
            "top": null,
            "visibility": null,
            "width": null
          }
        },
        "926692d4a1a7481e920fe058c1a403ae": {
          "model_module": "@jupyter-widgets/controls",
          "model_name": "DescriptionStyleModel",
          "model_module_version": "1.5.0",
          "state": {
            "_model_module": "@jupyter-widgets/controls",
            "_model_module_version": "1.5.0",
            "_model_name": "DescriptionStyleModel",
            "_view_count": null,
            "_view_module": "@jupyter-widgets/base",
            "_view_module_version": "1.2.0",
            "_view_name": "StyleView",
            "description_width": ""
          }
        },
        "8e67a0e922d54097be162ad417196f60": {
          "model_module": "@jupyter-widgets/base",
          "model_name": "LayoutModel",
          "model_module_version": "1.2.0",
          "state": {
            "_model_module": "@jupyter-widgets/base",
            "_model_module_version": "1.2.0",
            "_model_name": "LayoutModel",
            "_view_count": null,
            "_view_module": "@jupyter-widgets/base",
            "_view_module_version": "1.2.0",
            "_view_name": "LayoutView",
            "align_content": null,
            "align_items": null,
            "align_self": null,
            "border": null,
            "bottom": null,
            "display": null,
            "flex": null,
            "flex_flow": null,
            "grid_area": null,
            "grid_auto_columns": null,
            "grid_auto_flow": null,
            "grid_auto_rows": null,
            "grid_column": null,
            "grid_gap": null,
            "grid_row": null,
            "grid_template_areas": null,
            "grid_template_columns": null,
            "grid_template_rows": null,
            "height": null,
            "justify_content": null,
            "justify_items": null,
            "left": null,
            "margin": null,
            "max_height": null,
            "max_width": null,
            "min_height": null,
            "min_width": null,
            "object_fit": null,
            "object_position": null,
            "order": null,
            "overflow": null,
            "overflow_x": null,
            "overflow_y": null,
            "padding": null,
            "right": null,
            "top": null,
            "visibility": null,
            "width": "20px"
          }
        },
        "e8c394818bcd458faf67723258454b6f": {
          "model_module": "@jupyter-widgets/controls",
          "model_name": "ProgressStyleModel",
          "model_module_version": "1.5.0",
          "state": {
            "_model_module": "@jupyter-widgets/controls",
            "_model_module_version": "1.5.0",
            "_model_name": "ProgressStyleModel",
            "_view_count": null,
            "_view_module": "@jupyter-widgets/base",
            "_view_module_version": "1.2.0",
            "_view_name": "StyleView",
            "bar_color": null,
            "description_width": ""
          }
        },
        "d9fd8d16768a44799347fbae2d05b839": {
          "model_module": "@jupyter-widgets/base",
          "model_name": "LayoutModel",
          "model_module_version": "1.2.0",
          "state": {
            "_model_module": "@jupyter-widgets/base",
            "_model_module_version": "1.2.0",
            "_model_name": "LayoutModel",
            "_view_count": null,
            "_view_module": "@jupyter-widgets/base",
            "_view_module_version": "1.2.0",
            "_view_name": "LayoutView",
            "align_content": null,
            "align_items": null,
            "align_self": null,
            "border": null,
            "bottom": null,
            "display": null,
            "flex": null,
            "flex_flow": null,
            "grid_area": null,
            "grid_auto_columns": null,
            "grid_auto_flow": null,
            "grid_auto_rows": null,
            "grid_column": null,
            "grid_gap": null,
            "grid_row": null,
            "grid_template_areas": null,
            "grid_template_columns": null,
            "grid_template_rows": null,
            "height": null,
            "justify_content": null,
            "justify_items": null,
            "left": null,
            "margin": null,
            "max_height": null,
            "max_width": null,
            "min_height": null,
            "min_width": null,
            "object_fit": null,
            "object_position": null,
            "order": null,
            "overflow": null,
            "overflow_x": null,
            "overflow_y": null,
            "padding": null,
            "right": null,
            "top": null,
            "visibility": null,
            "width": null
          }
        },
        "cffbbf142a75467f98854defc9576a29": {
          "model_module": "@jupyter-widgets/controls",
          "model_name": "DescriptionStyleModel",
          "model_module_version": "1.5.0",
          "state": {
            "_model_module": "@jupyter-widgets/controls",
            "_model_module_version": "1.5.0",
            "_model_name": "DescriptionStyleModel",
            "_view_count": null,
            "_view_module": "@jupyter-widgets/base",
            "_view_module_version": "1.2.0",
            "_view_name": "StyleView",
            "description_width": ""
          }
        },
        "1d27e1085f79448fb3f864520d5d238e": {
          "model_module": "@jupyter-widgets/controls",
          "model_name": "HBoxModel",
          "model_module_version": "1.5.0",
          "state": {
            "_dom_classes": [],
            "_model_module": "@jupyter-widgets/controls",
            "_model_module_version": "1.5.0",
            "_model_name": "HBoxModel",
            "_view_count": null,
            "_view_module": "@jupyter-widgets/controls",
            "_view_module_version": "1.5.0",
            "_view_name": "HBoxView",
            "box_style": "",
            "children": [
              "IPY_MODEL_02c8762fe000451a985905384073d6b6",
              "IPY_MODEL_083cf7a6e5244d7e82085dea138d2474",
              "IPY_MODEL_d9175cf4ce194b9b940a41f85a22dd10"
            ],
            "layout": "IPY_MODEL_df4ad02d4464485ea0c2e4a36cd15207"
          }
        },
        "02c8762fe000451a985905384073d6b6": {
          "model_module": "@jupyter-widgets/controls",
          "model_name": "HTMLModel",
          "model_module_version": "1.5.0",
          "state": {
            "_dom_classes": [],
            "_model_module": "@jupyter-widgets/controls",
            "_model_module_version": "1.5.0",
            "_model_name": "HTMLModel",
            "_view_count": null,
            "_view_module": "@jupyter-widgets/controls",
            "_view_module_version": "1.5.0",
            "_view_name": "HTMLView",
            "description": "",
            "description_tooltip": null,
            "layout": "IPY_MODEL_82591687696f4681b933011390506014",
            "placeholder": "​",
            "style": "IPY_MODEL_0fc2a0764d4d4c03891f029fb2291d04",
            "value": ""
          }
        },
        "083cf7a6e5244d7e82085dea138d2474": {
          "model_module": "@jupyter-widgets/controls",
          "model_name": "FloatProgressModel",
          "model_module_version": "1.5.0",
          "state": {
            "_dom_classes": [],
            "_model_module": "@jupyter-widgets/controls",
            "_model_module_version": "1.5.0",
            "_model_name": "FloatProgressModel",
            "_view_count": null,
            "_view_module": "@jupyter-widgets/controls",
            "_view_module_version": "1.5.0",
            "_view_name": "ProgressView",
            "bar_style": "danger",
            "description": "",
            "description_tooltip": null,
            "layout": "IPY_MODEL_97d4ff7ac01044e5bbc3ae17ddd77d5c",
            "max": 1,
            "min": 0,
            "orientation": "horizontal",
            "style": "IPY_MODEL_7147020a4f464e10b62d0ca573163657",
            "value": 1
          }
        },
        "d9175cf4ce194b9b940a41f85a22dd10": {
          "model_module": "@jupyter-widgets/controls",
          "model_name": "HTMLModel",
          "model_module_version": "1.5.0",
          "state": {
            "_dom_classes": [],
            "_model_module": "@jupyter-widgets/controls",
            "_model_module_version": "1.5.0",
            "_model_name": "HTMLModel",
            "_view_count": null,
            "_view_module": "@jupyter-widgets/controls",
            "_view_module_version": "1.5.0",
            "_view_name": "HTMLView",
            "description": "",
            "description_tooltip": null,
            "layout": "IPY_MODEL_e0dbda7b1b384235ba31bd9507e7d9b4",
            "placeholder": "​",
            "style": "IPY_MODEL_649a2fbd382e417798ec67f8159cffc5",
            "value": " 1000000/? [00:12&lt;00:00, 83401.65it/s]"
          }
        },
        "df4ad02d4464485ea0c2e4a36cd15207": {
          "model_module": "@jupyter-widgets/base",
          "model_name": "LayoutModel",
          "model_module_version": "1.2.0",
          "state": {
            "_model_module": "@jupyter-widgets/base",
            "_model_module_version": "1.2.0",
            "_model_name": "LayoutModel",
            "_view_count": null,
            "_view_module": "@jupyter-widgets/base",
            "_view_module_version": "1.2.0",
            "_view_name": "LayoutView",
            "align_content": null,
            "align_items": null,
            "align_self": null,
            "border": null,
            "bottom": null,
            "display": null,
            "flex": null,
            "flex_flow": null,
            "grid_area": null,
            "grid_auto_columns": null,
            "grid_auto_flow": null,
            "grid_auto_rows": null,
            "grid_column": null,
            "grid_gap": null,
            "grid_row": null,
            "grid_template_areas": null,
            "grid_template_columns": null,
            "grid_template_rows": null,
            "height": null,
            "justify_content": null,
            "justify_items": null,
            "left": null,
            "margin": null,
            "max_height": null,
            "max_width": null,
            "min_height": null,
            "min_width": null,
            "object_fit": null,
            "object_position": null,
            "order": null,
            "overflow": null,
            "overflow_x": null,
            "overflow_y": null,
            "padding": null,
            "right": null,
            "top": null,
            "visibility": null,
            "width": null
          }
        },
        "82591687696f4681b933011390506014": {
          "model_module": "@jupyter-widgets/base",
          "model_name": "LayoutModel",
          "model_module_version": "1.2.0",
          "state": {
            "_model_module": "@jupyter-widgets/base",
            "_model_module_version": "1.2.0",
            "_model_name": "LayoutModel",
            "_view_count": null,
            "_view_module": "@jupyter-widgets/base",
            "_view_module_version": "1.2.0",
            "_view_name": "LayoutView",
            "align_content": null,
            "align_items": null,
            "align_self": null,
            "border": null,
            "bottom": null,
            "display": null,
            "flex": null,
            "flex_flow": null,
            "grid_area": null,
            "grid_auto_columns": null,
            "grid_auto_flow": null,
            "grid_auto_rows": null,
            "grid_column": null,
            "grid_gap": null,
            "grid_row": null,
            "grid_template_areas": null,
            "grid_template_columns": null,
            "grid_template_rows": null,
            "height": null,
            "justify_content": null,
            "justify_items": null,
            "left": null,
            "margin": null,
            "max_height": null,
            "max_width": null,
            "min_height": null,
            "min_width": null,
            "object_fit": null,
            "object_position": null,
            "order": null,
            "overflow": null,
            "overflow_x": null,
            "overflow_y": null,
            "padding": null,
            "right": null,
            "top": null,
            "visibility": null,
            "width": null
          }
        },
        "0fc2a0764d4d4c03891f029fb2291d04": {
          "model_module": "@jupyter-widgets/controls",
          "model_name": "DescriptionStyleModel",
          "model_module_version": "1.5.0",
          "state": {
            "_model_module": "@jupyter-widgets/controls",
            "_model_module_version": "1.5.0",
            "_model_name": "DescriptionStyleModel",
            "_view_count": null,
            "_view_module": "@jupyter-widgets/base",
            "_view_module_version": "1.2.0",
            "_view_name": "StyleView",
            "description_width": ""
          }
        },
        "97d4ff7ac01044e5bbc3ae17ddd77d5c": {
          "model_module": "@jupyter-widgets/base",
          "model_name": "LayoutModel",
          "model_module_version": "1.2.0",
          "state": {
            "_model_module": "@jupyter-widgets/base",
            "_model_module_version": "1.2.0",
            "_model_name": "LayoutModel",
            "_view_count": null,
            "_view_module": "@jupyter-widgets/base",
            "_view_module_version": "1.2.0",
            "_view_name": "LayoutView",
            "align_content": null,
            "align_items": null,
            "align_self": null,
            "border": null,
            "bottom": null,
            "display": null,
            "flex": null,
            "flex_flow": null,
            "grid_area": null,
            "grid_auto_columns": null,
            "grid_auto_flow": null,
            "grid_auto_rows": null,
            "grid_column": null,
            "grid_gap": null,
            "grid_row": null,
            "grid_template_areas": null,
            "grid_template_columns": null,
            "grid_template_rows": null,
            "height": null,
            "justify_content": null,
            "justify_items": null,
            "left": null,
            "margin": null,
            "max_height": null,
            "max_width": null,
            "min_height": null,
            "min_width": null,
            "object_fit": null,
            "object_position": null,
            "order": null,
            "overflow": null,
            "overflow_x": null,
            "overflow_y": null,
            "padding": null,
            "right": null,
            "top": null,
            "visibility": null,
            "width": "20px"
          }
        },
        "7147020a4f464e10b62d0ca573163657": {
          "model_module": "@jupyter-widgets/controls",
          "model_name": "ProgressStyleModel",
          "model_module_version": "1.5.0",
          "state": {
            "_model_module": "@jupyter-widgets/controls",
            "_model_module_version": "1.5.0",
            "_model_name": "ProgressStyleModel",
            "_view_count": null,
            "_view_module": "@jupyter-widgets/base",
            "_view_module_version": "1.2.0",
            "_view_name": "StyleView",
            "bar_color": null,
            "description_width": ""
          }
        },
        "e0dbda7b1b384235ba31bd9507e7d9b4": {
          "model_module": "@jupyter-widgets/base",
          "model_name": "LayoutModel",
          "model_module_version": "1.2.0",
          "state": {
            "_model_module": "@jupyter-widgets/base",
            "_model_module_version": "1.2.0",
            "_model_name": "LayoutModel",
            "_view_count": null,
            "_view_module": "@jupyter-widgets/base",
            "_view_module_version": "1.2.0",
            "_view_name": "LayoutView",
            "align_content": null,
            "align_items": null,
            "align_self": null,
            "border": null,
            "bottom": null,
            "display": null,
            "flex": null,
            "flex_flow": null,
            "grid_area": null,
            "grid_auto_columns": null,
            "grid_auto_flow": null,
            "grid_auto_rows": null,
            "grid_column": null,
            "grid_gap": null,
            "grid_row": null,
            "grid_template_areas": null,
            "grid_template_columns": null,
            "grid_template_rows": null,
            "height": null,
            "justify_content": null,
            "justify_items": null,
            "left": null,
            "margin": null,
            "max_height": null,
            "max_width": null,
            "min_height": null,
            "min_width": null,
            "object_fit": null,
            "object_position": null,
            "order": null,
            "overflow": null,
            "overflow_x": null,
            "overflow_y": null,
            "padding": null,
            "right": null,
            "top": null,
            "visibility": null,
            "width": null
          }
        },
        "649a2fbd382e417798ec67f8159cffc5": {
          "model_module": "@jupyter-widgets/controls",
          "model_name": "DescriptionStyleModel",
          "model_module_version": "1.5.0",
          "state": {
            "_model_module": "@jupyter-widgets/controls",
            "_model_module_version": "1.5.0",
            "_model_name": "DescriptionStyleModel",
            "_view_count": null,
            "_view_module": "@jupyter-widgets/base",
            "_view_module_version": "1.2.0",
            "_view_name": "StyleView",
            "description_width": ""
          }
        }
      }
    }
  },
  "nbformat": 4,
  "nbformat_minor": 0
}